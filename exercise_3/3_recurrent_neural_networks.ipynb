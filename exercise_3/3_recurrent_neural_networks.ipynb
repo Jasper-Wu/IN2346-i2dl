{
 "cells": [
  {
   "cell_type": "markdown",
   "metadata": {},
   "source": [
    "Recurrent Neural Networks (RNN)\n",
    "====================\n",
    "\n",
    "In this exercise we will work with Recurrent Neural Networks (RNN). A RNN is class of neural networks where the output not only depends on the current input but also on previous inputs along a given input sequence. This allows to exhibit temporal dynamic behaviour and contextual information in a sequence. Common applications for RNN are:\n",
    "\n",
    "- time series analysis\n",
    "- speech recognition\n",
    "- machine translation\n",
    "- image captioning\n",
    "\n",
    "\n",
    "Goal of this exercise\n",
    "========\n",
    "\n",
    "This exercise notebook should help you to experiment how recurrent neural networks are implemented, trained, and used for computer vision problems. Therefore, this notebook is structured as follows:\n",
    "1. Implement your own simple RNN class in Pytorch.\n",
    "2. Explore the backpropagation of the gradients in the RNN and discuss the vanishing gradient problem.\n",
    "3. Implement your own LSTM (Long-Short Term Memory) Network and show that this architecture improves the vanishing gradient problem.\n",
    "4. Build a RNN classifier for the MNIST dataset and train your model.\n",
    "5. Tune the hyperparameters of your model and submit your best model to the server to get bonus points.\n",
    "\n"
   ]
  },
  {
   "cell_type": "code",
   "execution_count": 1,
   "metadata": {},
   "outputs": [],
   "source": [
    "import numpy as np\n",
    "import matplotlib.pyplot as plt\n",
    "import torch\n",
    "from torch.autograd import Variable\n",
    "import os\n",
    "\n",
    "device = torch.device(\"cuda:0\" if torch.cuda.is_available() else \"cpu\")\n",
    "\n",
    "%matplotlib inline\n",
    "plt.rcParams['figure.figsize'] = (10.0, 8.0) # set default size of plots\n",
    "plt.rcParams['image.interpolation'] = 'nearest'\n",
    "plt.rcParams['image.cmap'] = 'gray'\n",
    "\n",
    "# for auto-reloading external modules\n",
    "# see http://stackoverflow.com/questions/1907993/autoreload-of-modules-in-ipython\n",
    "%load_ext autoreload\n",
    "%autoreload 2"
   ]
  },
  {
   "cell_type": "code",
   "execution_count": 2,
   "metadata": {},
   "outputs": [
    {
     "name": "stdout",
     "output_type": "stream",
     "text": [
      "Using python:  3.7.5\n",
      "Using torch version:  1.3.0+cu92\n",
      "Using device:  cuda:0\n"
     ]
    }
   ],
   "source": [
    "import platform\n",
    "print('Using python: ', platform.python_version())\n",
    "print('Using torch version: ', torch.__version__)\n",
    "print('Using device: ', device)\n",
    "# Machine: 2015 13\" Macbook Pro, i5 dual core"
   ]
  },
  {
   "attachments": {
    "image.png": {
     "image/png": "[encoded data removed]"
    }
   },
   "cell_type": "markdown",
   "metadata": {},
   "source": [
    "## Simple Recurrent Neural Network\n",
    "\n",
    "The recurrent loops in a RNN allow relevant information to persist over time. A simple RNN architecture is shown here:\n",
    "<img src=http://colah.github.io/posts/2015-08-Understanding-LSTMs/img/RNN-rolled.png width=\"150\">\n",
    "\n",
    "A simple RNN takes not only an input X at time step t but also passes a hidden state that is the output of the previous time step into the network. The output of a RNN cell at time step t reads in Eq. 1:\n",
    "\n",
    "![image.png](attachment:image.png)\n",
    "\n",
    "In this task you have to implement a simple one-layer RNN as a class in Pytorch, where you can choose a relu or tanh activation in the cell.You can see the architecture of a simple RNN in the figure below.\n",
    "\n",
    "\n",
    "<img src=http://colah.github.io/posts/2015-08-Understanding-LSTMs/img/LSTM3-SimpleRNN.png width=\"600\">\n",
    "\n"
   ]
  },
  {
   "cell_type": "code",
   "execution_count": 3,
   "metadata": {},
   "outputs": [],
   "source": [
    "# ToDo: Implement the RNN class\n",
    "from exercise_code.rnn.rnn_nn import RNN"
   ]
  },
  {
   "cell_type": "markdown",
   "metadata": {},
   "source": [
    "Luckily, Pytorch already has implemented a simple RNN in their library and you can call the RNN with <code>nn.RNN</code>. We will use the Pytorch RNN function to check if we have built the correct cell and compare the output of both functions. We also compare the running time of both classes."
   ]
  },
  {
   "cell_type": "code",
   "execution_count": 4,
   "metadata": {},
   "outputs": [
    {
     "name": "stdout",
     "output_type": "stream",
     "text": [
      "Differnce between pytorch and your RNN implementation: 0.0\n",
      "Cool, you implemented a correct model.\n"
     ]
    }
   ],
   "source": [
    "import torch.nn as nn\n",
    "import timeit\n",
    "\n",
    "# choose your network parameters\n",
    "input_size = 3\n",
    "hidden_dim = 3\n",
    "seq_len = 10 \n",
    "\n",
    "# define the two models\n",
    "pytorch_rnn=nn.RNN(input_size, hidden_dim)\n",
    "i2dl_rnn=RNN(input_size, hidden_dim)\n",
    "\n",
    "# initialise both rnn with same values\n",
    "for p in pytorch_rnn.parameters():\n",
    "    nn.init.constant_(p, val=0.3)\n",
    "for p in i2dl_rnn.parameters():\n",
    "    nn.init.constant_(p, val=0.3)\n",
    "    \n",
    "X=torch.randn(seq_len, 1, input_size)\n",
    "\n",
    "output_pytorch, h_pytorch = pytorch_rnn(X)\n",
    "output_i2dl, h_i2dl = i2dl_rnn(X)\n",
    "\n",
    "\n",
    "# The difference of outputs should be 0!!\n",
    "\n",
    "diff = torch.sum((output_pytorch-output_i2dl) ** 2)\n",
    "print(\"Differnce between pytorch and your RNN implementation: %s\" % diff.item())\n",
    "if diff.item() < 10 ** -10:\n",
    "    print(\"Cool, you implemented a correct model.\")\n",
    "else:\n",
    "    print(\"Upps! There is something wrong in your model. Try again!\")"
   ]
  },
  {
   "cell_type": "code",
   "execution_count": 5,
   "metadata": {},
   "outputs": [
    {
     "name": "stdout",
     "output_type": "stream",
     "text": [
      "Time Pytorch RNN 10000 runs: 4.661s\n",
      "Time I2DL RNN 10000 run: 10.653s\n"
     ]
    }
   ],
   "source": [
    "import timeit\n",
    "runs=10 ** 4\n",
    "\n",
    "print(\"Time Pytorch RNN {} runs: {:.3f}s\".format(runs, timeit.timeit(\"pytorch_rnn(X)\", \n",
    "                                       setup=\"from __main__ import pytorch_rnn, X\", \n",
    "                                       number=runs))\n",
    "     )\n",
    "\n",
    "print(\"Time I2DL RNN {} run: {:.3f}s\".format(runs, timeit.timeit(\"i2dl_rnn(X)\", \n",
    "                                       setup=\"from __main__ import i2dl_rnn, X\", \n",
    "                                       number=runs))\n",
    "     )"
   ]
  },
  {
   "cell_type": "markdown",
   "metadata": {},
   "source": [
    "From now on we will use the Pytorch module that is faster and optimised in performance. However, it is always a good exercise to build the functions by yourself and we really advice you to do the exercise!"
   ]
  },
  {
   "cell_type": "markdown",
   "metadata": {},
   "source": [
    "## Vanishing Gradient\n",
    "\n",
    "As discussed in the lecture, the simple RNN suffers from vanishing gradients in the backpropagation. The hidden state is manipulated in every time step along the sequence and the effect of the past inputs to the final output vanishes with the distance in time. In the next cell we will explore the vanishing effect of previous inputs in the RNN."
   ]
  },
  {
   "cell_type": "code",
   "execution_count": 6,
   "metadata": {},
   "outputs": [
    {
     "data": {
      "image/png": "[encoded data removed]",
      "text/plain": [
       "<Figure size 720x576 with 1 Axes>"
      ]
     },
     "metadata": {
      "needs_background": "light"
     },
     "output_type": "display_data"
    }
   ],
   "source": [
    "############################################################################\n",
    "# TODO: Define a RNN and explore the gradients on the output h_T wrt. the  #\n",
    "# input at time t and plot your result. What behaviour do you observe?     #\n",
    "# Hints:                                                                   #\n",
    "#   - use one input feature                                                #\n",
    "#   - pytorch allows backward() pass wrt. to any vector                    #\n",
    "#   - backward() can only be applied to scalars and not to output tensors  #\n",
    "#   - choose a good representation of the gradient plot                    #\n",
    "############################################################################\n",
    " \n",
    "input_size = 3\n",
    "hidden_dim = 3\n",
    "seq_len = 10\n",
    "\n",
    "model = nn.RNN(input_size, hidden_dim)\n",
    "\n",
    "X = torch.randn(seq_len, 1, input_size, requires_grad=True)\n",
    "h_seq, h = model(X)\n",
    "\n",
    "fc = nn.Linear(hidden_dim, 1)\n",
    "out = fc(h)\n",
    "out.backward()\n",
    "\n",
    "plt.plot(X.grad.squeeze().abs())\n",
    "plt.xlabel('time(t)')\n",
    "plt.ylabel('output\\'s gradient wrt to input')\n",
    "plt.show()\n",
    "    \n",
    "############################################################################\n",
    "#                             END OF YOUR CODE                             #\n",
    "############################################################################"
   ]
  },
  {
   "cell_type": "markdown",
   "metadata": {},
   "source": [
    "\n",
    "<div class=\"alert alert-info\">\n",
    "    <h3>Note</h3>\n",
    "    <p>It can be seen that the gradient of the output at time t wrt. to a previous input decreases exponentially. Hence, the final output does not change significantly for changes in the previous input and hence the RNN does not have memory.</p> \n",
    "<h3>Question</h3> \n",
    "<p>In order to better understand the vanishing gradient problem, calculate the gradients \n",
    "dh_t/dV, dh_t /dW, and dh_t/dX_0 analytically for t=3 and h_0=0 using Eq. 1. This exercise might seem a little bit tedious but it is really useful. Can you explain the vanishing gradient mathematically based on your findings?</p>\n",
    "</div>"
   ]
  },
  {
   "cell_type": "markdown",
   "metadata": {},
   "source": [
    "## Long-Short Term Memory Network (LSTM)\n",
    "The vanishing gradient problem had been known for some time until Schmidhuber (1997) developed the Long-Short Term Memory Network and showed that this architecture can overcome the problem. <br> \n",
    "A LSTM is a more advanced recurrent network architecture that is able to learn long time dependencies. The architecture of a LSTM is composed of a forget, input, and output gate and the cell can remember values over arbitrary time intervals. Despite various different and exotic LSTM architectures, the standard LSTM cell is shwon in the figure below:\n",
    "\n",
    "\n",
    "<img src=http://colah.github.io/posts/2015-08-Understanding-LSTMs/img/LSTM3-chain.png width=\"600\">\n",
    "\n"
   ]
  },
  {
   "cell_type": "markdown",
   "metadata": {},
   "source": [
    "Compared to a simple RNN the LSTM cell has a hidden vector and an additional cell state vector. __What size does the cell state have?__ <br>\n",
    "The operations inside the LSTM are given as \n",
    "\n",
    "<img src=https://wikimedia.org/api/rest_v1/media/math/render/svg/2db2cba6a0d878e13932fa27ce6f3fb71ad99cf1  width=\"600\">\n",
    "where \n",
    "f_t: forget gate,  <br>\n",
    "i_t: input gate, <br>\n",
    "o_t: output gate, <br>\n",
    "h_t: hidden state vector, <br>\n",
    "c_t: cell state vector, <br>\n",
    "x_t: input vector, <br>\n",
    "t is time step, \n",
    "<br> \n",
    "<br> \n",
    "and<br> \n",
    "sigma_g: sigmoid activation <br> \n",
    "sigma_c and sigma_h: hyperbolic tangent function\n"
   ]
  },
  {
   "cell_type": "markdown",
   "metadata": {},
   "source": [
    "In the next step you should implement your own LSTM with the operations stated above."
   ]
  },
  {
   "cell_type": "code",
   "execution_count": 7,
   "metadata": {},
   "outputs": [],
   "source": [
    "# ToDo: Implement the RNN class\n",
    "from exercise_code.rnn.rnn_nn import LSTM"
   ]
  },
  {
   "cell_type": "code",
   "execution_count": 8,
   "metadata": {},
   "outputs": [
    {
     "name": "stdout",
     "output_type": "stream",
     "text": [
      "Differnce between pytorch and your RNN implementation: 0.0\n",
      "Cool, you implemented a correct model.\n"
     ]
    }
   ],
   "source": [
    "\n",
    "# choose your input parameters\n",
    "input_size = 3\n",
    "hidden_dim = 3\n",
    "seq_len = 10 \n",
    "\n",
    "# define the two models\n",
    "pytorch_lstm=nn.LSTM(input_size, hidden_dim)\n",
    "i2dl_lstm=LSTM(input_size, hidden_dim)\n",
    "\n",
    "# initialise both lstms with same values\n",
    "for p in pytorch_lstm.parameters():\n",
    "    nn.init.constant_(p, val=0.3)\n",
    "for p in i2dl_lstm.parameters():\n",
    "    nn.init.constant_(p, val=0.3)\n",
    "    \n",
    "X=torch.randn(seq_len, 1, input_size)\n",
    "\n",
    "output_pytorch, (h_pytorch, _) = pytorch_lstm(X)\n",
    "output_i2dl , (h_i2dl, _ )= i2dl_lstm(X)\n",
    "\n",
    "# The difference of outputs should be 0!!\n",
    "diff = torch.sum((output_pytorch-output_i2dl) ** 2)\n",
    "print(\"Differnce between pytorch and your RNN implementation: %s\" % diff.item())\n",
    "if diff.item() < 10 ** -10:\n",
    "    print(\"Cool, you implemented a correct model.\")\n",
    "else:\n",
    "    print(\"Upps! There is something wrong in your model. Try again!\")"
   ]
  },
  {
   "cell_type": "code",
   "execution_count": 9,
   "metadata": {},
   "outputs": [
    {
     "name": "stdout",
     "output_type": "stream",
     "text": [
      "Time Pytorch LSTM 10000 runs: 11.331s\n",
      "Time I2DL LSTM 10000 runs: 40.644s\n"
     ]
    }
   ],
   "source": [
    "import timeit\n",
    "runs=10 ** 4\n",
    "\n",
    "print(\"Time Pytorch LSTM {} runs: {:.3f}s\".format(runs, timeit.timeit(\"pytorch_lstm(X)\", \n",
    "                                       setup=\"from __main__ import pytorch_lstm, X\", \n",
    "                                       number=runs))\n",
    "     )\n",
    "\n",
    "print(\"Time I2DL LSTM {} runs: {:.3f}s\".format(runs, timeit.timeit(\"i2dl_lstm(X)\", \n",
    "                                       setup=\"from __main__ import i2dl_lstm, X\", \n",
    "                                       number=runs))\n",
    "     )"
   ]
  },
  {
   "cell_type": "markdown",
   "metadata": {},
   "source": [
    "## Explore Gradients \n",
    "Analogously to the RNN, calculate the gradients of the input wrt. to the output of the LSTM and compare it against the RNN gradients. __What do you see?__\n"
   ]
  },
  {
   "cell_type": "code",
   "execution_count": 10,
   "metadata": {},
   "outputs": [
    {
     "data": {
      "image/png": "[encoded data removed]",
      "text/plain": [
       "<Figure size 720x576 with 1 Axes>"
      ]
     },
     "metadata": {
      "needs_background": "light"
     },
     "output_type": "display_data"
    }
   ],
   "source": [
    "############################################################################\n",
    "# TODO: Define a RNN and LSTM and explore the gradients on the output h_T   #\n",
    "# wrt. the input at time t and plot your result.                           #\n",
    "############################################################################\n",
    "\n",
    "input_size = 1\n",
    "hidden_dim = 3\n",
    "seq_len = 10\n",
    "\n",
    "model_rnn = nn.RNN(input_size, hidden_dim)\n",
    "\n",
    "X_rnn = torch.randn(seq_len, 1, input_size, requires_grad=True)\n",
    "X_lstm = X_rnn\n",
    "rnn_hidden, rnn_h = model_rnn(X_rnn)\n",
    "fc = nn.Linear(hidden_dim, 1)\n",
    "rnn_output = fc(rnn_h)\n",
    "rnn_output.backward()\n",
    "plt.plot(X_rnn.grad.squeeze().abs(), '-b')\n",
    "\n",
    "model_lstm = nn.LSTM(input_size, hidden_dim)\n",
    "\n",
    "lstm_hidden, (lstm_h, _) = model_lstm(X_lstm)\n",
    "lstm_output = fc(lstm_h)\n",
    "lstm_output.backward()\n",
    "plt.plot(X_lstm.grad.squeeze().abs(), '-r')\n",
    "\n",
    "plt.xlabel('time(t)')\n",
    "plt.ylabel('output\\'s gradient wrt to input')\n",
    "plt.legend(['RNN', 'LSTM'])\n",
    "plt.show()\n",
    "\n",
    "############################################################################\n",
    "#                             END OF YOUR CODE                             #\n",
    "############################################################################"
   ]
  },
  {
   "cell_type": "markdown",
   "metadata": {},
   "source": [
    "## MNIST image classification with RNNs\n",
    "\n",
    "In the previous exercises we already have classified images with a Fully Connected and Convolutional Network. In this exercise, we will solve the problem of image classification with a recurrent neural network.  \n",
    "\n",
    "For the experiment we use the MNIST handwritten digits dataset which we already know from the autoencoder exercise. This dataset consists of images of the 10 different digits (10 classes). The images have the resolution 28 x 28. The idea for the RNN classifier is to interpret the image as a sequence of rows. This means that we pass the rows through the RNN and use the final hidden state for classification. "
   ]
  },
  {
   "cell_type": "markdown",
   "metadata": {},
   "source": [
    "\n",
    "<div class=\"alert alert-info\">\n",
    "    <h3>Note</h3>\n",
    "    <p>\n",
    "    In this semester you have seen three different types of neural networks, namely Multi-Layer Perceptrons (MLPs), Convolutional Neural Networks (CNNs), and now Recurrent Neural Networks (RNNs). We have seen that we can use all three architectures for image classification. However, it turned out that some models are better than others for image classification. Try to think about advantages and disadvantages of the models, regarding # of parameters, transformations of the object in the image (scaling, rotation, translation,...), training time, testing time, over-fitting, etc."
   ]
  },
  {
   "cell_type": "code",
   "execution_count": 11,
   "metadata": {},
   "outputs": [],
   "source": [
    "# Define data loader\n",
    "from torchvision import transforms\n",
    "import pickle\n",
    "\n",
    "class Unsqueeze(object):\n",
    "    \"\"\"Adds a channel dimension that that our 2 dimensional input (H, W), \n",
    "    fits the 3 dimensional (H, W, C) expectations of pytorch's ToTensor function which\n",
    "    expects a PIL image. This is very inefficient but you most probably will use pytorch's\n",
    "    PIL image loader. Check out the documentation and make it more efficient :)\n",
    "    \"\"\"\n",
    "    def __init__(self, dimension=0):\n",
    "        self.dimension = dimension\n",
    "    def __call__(self, numpy_array):\n",
    "        extended_array = np.expand_dims(numpy_array, self.dimension)\n",
    "        return extended_array\n",
    "    def __repr__(self):\n",
    "        return self.__class__.__name__ + 'dimension={}'.format(dimension)\n",
    "\n",
    "    \n",
    "# transformation of data\n",
    "transform = transforms.Compose([\n",
    "    Unsqueeze(dimension=3),     \n",
    "    transforms.ToTensor(),\n",
    "    transforms.Normalize(mean=(0.5,), std=(0.5,))\n",
    "])\n",
    "\n",
    "\n",
    "class MnistDataset(torch.utils.data.Dataset):\n",
    "    def __init__(self, images, labels, \n",
    "                 transform=None):\n",
    "        super(MnistDataset, self).__init__()\n",
    "        self.images = images\n",
    "        self.labels = labels\n",
    "        self.transform = transform\n",
    "       \n",
    "    def __len__(self):\n",
    "        return len(self.images)\n",
    "    \n",
    "    def __getitem__(self, idx):\n",
    "        image = self.images[idx]\n",
    "        label = self.labels[idx]\n",
    "        if self.transform: \n",
    "            image = self.transform(image)\n",
    "        return image, label\n",
    "\n",
    "    \n",
    "# loading the train data\n",
    "with open(\"../datasets/mnist/mnist_train.p\", \"rb\") as f:\n",
    "    mnist_raw = pickle.load(f)\n",
    "\n",
    "X, y = mnist_raw\n",
    "############################################################################\n",
    "# TODO: Set a useful training/ validation split                            #\n",
    "############################################################################    \n",
    "\n",
    "train_split = 0.75\n",
    "\n",
    "############################################################################\n",
    "#                             END OF YOUR CODE                             #\n",
    "############################################################################\n",
    "\n",
    "\n",
    "train_dset = MnistDataset(X[:int(len(X) * train_split)], y[:int(len(X) * train_split)], transform=transform)\n",
    "val_dset = MnistDataset(X[int(len(X) * train_split):], y[int(len(X) * train_split):], transform=transform)\n"
   ]
  },
  {
   "cell_type": "code",
   "execution_count": 12,
   "metadata": {},
   "outputs": [
    {
     "data": {
      "image/png": "[encoded data removed]",
      "text/plain": [
       "<Figure size 720x576 with 50 Axes>"
      ]
     },
     "metadata": {
      "needs_background": "light"
     },
     "output_type": "display_data"
    }
   ],
   "source": [
    "# Visualize some examples from the dataset. Stolen from other notebooks\n",
    "# We show a few examples of training images from each class.\n",
    "X=train_dset.images\n",
    "y=train_dset.labels\n",
    "\n",
    "\n",
    "classes = list(range(10))\n",
    "num_classes = len(classes)\n",
    "samples_per_class = 5\n",
    "for y_hat, cls in enumerate(classes):\n",
    "    idxs = np.flatnonzero(train_dset.labels == y_hat)\n",
    "    idxs = np.random.choice(idxs, samples_per_class, replace=False)\n",
    "    for i, idx in enumerate(idxs):\n",
    "        plt_idx = i * num_classes + y_hat + 1\n",
    "        plt.subplot(samples_per_class, num_classes, plt_idx)\n",
    "        plt.imshow(X[idx])\n",
    "        plt.axis('off')\n",
    "        if i == 0:\n",
    "            plt.title(cls)\n",
    "plt.show()"
   ]
  },
  {
   "cell_type": "markdown",
   "metadata": {},
   "source": [
    "Build a classifier based on a RNN where you sequentially feed the rows in the network and use the final hidden state for prediction."
   ]
  },
  {
   "cell_type": "markdown",
   "metadata": {},
   "source": [
    "<img src=https://cdn-images-1.medium.com/max/800/1*Cm_c-I02rBa1rtLZXBhNUw.png width=\"600\">\n"
   ]
  },
  {
   "cell_type": "code",
   "execution_count": 13,
   "metadata": {},
   "outputs": [],
   "source": [
    "from exercise_code.rnn.rnn_nn import LSTM_Classifier, RNN_Classifier\n",
    "model_rnn = LSTM_Classifier()\n"
   ]
  },
  {
   "cell_type": "code",
   "execution_count": 14,
   "metadata": {},
   "outputs": [],
   "source": [
    "from exercise_code.rnn.solver import Solver"
   ]
  },
  {
   "cell_type": "code",
   "execution_count": 15,
   "metadata": {
    "scrolled": false
   },
   "outputs": [
    {
     "name": "stdout",
     "output_type": "stream",
     "text": [
      "START TRAIN.\n"
     ]
    },
    {
     "name": "stderr",
     "output_type": "stream",
     "text": [
      "E:\\Anaconda3\\envs\\i2dl\\lib\\site-packages\\ipykernel_launcher.py:14: DeprecationWarning: Both axis > a.ndim and axis < -a.ndim - 1 are deprecated and will raise an AxisError in the future.\n",
      "  \n"
     ]
    },
    {
     "name": "stdout",
     "output_type": "stream",
     "text": [
      "[Iteration 50/14070] TRAIN loss: 2.300\n",
      "[Iteration 100/14070] TRAIN loss: 2.239\n",
      "[Iteration 150/14070] TRAIN loss: 1.910\n",
      "[Iteration 200/14070] TRAIN loss: 1.670\n",
      "[Iteration 250/14070] TRAIN loss: 1.471\n",
      "[Iteration 300/14070] TRAIN loss: 1.190\n",
      "[Iteration 350/14070] TRAIN loss: 1.031\n",
      "[Iteration 400/14070] TRAIN loss: 0.872\n",
      "[Iteration 450/14070] TRAIN loss: 0.763\n",
      "[Iteration 500/14070] TRAIN loss: 0.710\n",
      "[Iteration 550/14070] TRAIN loss: 0.640\n",
      "[Iteration 600/14070] TRAIN loss: 0.600\n",
      "[Iteration 650/14070] TRAIN loss: 0.559\n",
      "[Iteration 700/14070] TRAIN loss: 0.414\n",
      "[Iteration 750/14070] TRAIN loss: 0.401\n",
      "[Iteration 800/14070] TRAIN loss: 0.392\n",
      "[Iteration 850/14070] TRAIN loss: 0.401\n",
      "[Iteration 900/14070] TRAIN loss: 0.370\n",
      "[Iteration 950/14070] TRAIN loss: 0.372\n",
      "[Iteration 1000/14070] TRAIN loss: 0.349\n",
      "[Iteration 1050/14070] TRAIN loss: 0.329\n",
      "[Iteration 1100/14070] TRAIN loss: 0.283\n",
      "[Iteration 1150/14070] TRAIN loss: 0.276\n",
      "[Iteration 1200/14070] TRAIN loss: 0.294\n",
      "[Iteration 1250/14070] TRAIN loss: 0.283\n",
      "[Iteration 1300/14070] TRAIN loss: 0.242\n",
      "[Iteration 1350/14070] TRAIN loss: 0.269\n",
      "[Iteration 1400/14070] TRAIN loss: 0.277\n",
      "[Epoch 1/10] TRAIN acc/loss: 1.000/0.277\n",
      "[Epoch 1/10] VAL   acc/loss: 0.943/0.226\n",
      "[Iteration 1457/14070] TRAIN loss: 0.216\n",
      "[Iteration 1507/14070] TRAIN loss: 0.221\n",
      "[Iteration 1557/14070] TRAIN loss: 0.269\n",
      "[Iteration 1607/14070] TRAIN loss: 0.182\n",
      "[Iteration 1657/14070] TRAIN loss: 0.266\n",
      "[Iteration 1707/14070] TRAIN loss: 0.236\n",
      "[Iteration 1757/14070] TRAIN loss: 0.233\n",
      "[Iteration 1807/14070] TRAIN loss: 0.167\n",
      "[Iteration 1857/14070] TRAIN loss: 0.171\n",
      "[Iteration 1907/14070] TRAIN loss: 0.205\n",
      "[Iteration 1957/14070] TRAIN loss: 0.160\n",
      "[Iteration 2007/14070] TRAIN loss: 0.179\n",
      "[Iteration 2057/14070] TRAIN loss: 0.181\n",
      "[Iteration 2107/14070] TRAIN loss: 0.181\n",
      "[Iteration 2157/14070] TRAIN loss: 0.223\n",
      "[Iteration 2207/14070] TRAIN loss: 0.195\n",
      "[Iteration 2257/14070] TRAIN loss: 0.144\n",
      "[Iteration 2307/14070] TRAIN loss: 0.196\n",
      "[Iteration 2357/14070] TRAIN loss: 0.174\n",
      "[Iteration 2407/14070] TRAIN loss: 0.167\n",
      "[Iteration 2457/14070] TRAIN loss: 0.163\n",
      "[Iteration 2507/14070] TRAIN loss: 0.192\n",
      "[Iteration 2557/14070] TRAIN loss: 0.188\n",
      "[Iteration 2607/14070] TRAIN loss: 0.173\n",
      "[Iteration 2657/14070] TRAIN loss: 0.198\n",
      "[Iteration 2707/14070] TRAIN loss: 0.202\n",
      "[Iteration 2757/14070] TRAIN loss: 0.127\n",
      "[Iteration 2807/14070] TRAIN loss: 0.206\n",
      "[Epoch 2/10] TRAIN acc/loss: 1.000/0.206\n",
      "[Epoch 2/10] VAL   acc/loss: 0.954/0.182\n",
      "[Iteration 2864/14070] TRAIN loss: 0.155\n",
      "[Iteration 2914/14070] TRAIN loss: 0.159\n",
      "[Iteration 2964/14070] TRAIN loss: 0.118\n",
      "[Iteration 3014/14070] TRAIN loss: 0.144\n",
      "[Iteration 3064/14070] TRAIN loss: 0.116\n",
      "[Iteration 3114/14070] TRAIN loss: 0.144\n",
      "[Iteration 3164/14070] TRAIN loss: 0.152\n",
      "[Iteration 3214/14070] TRAIN loss: 0.123\n",
      "[Iteration 3264/14070] TRAIN loss: 0.144\n",
      "[Iteration 3314/14070] TRAIN loss: 0.135\n",
      "[Iteration 3364/14070] TRAIN loss: 0.161\n",
      "[Iteration 3414/14070] TRAIN loss: 0.135\n",
      "[Iteration 3464/14070] TRAIN loss: 0.117\n",
      "[Iteration 3514/14070] TRAIN loss: 0.139\n",
      "[Iteration 3564/14070] TRAIN loss: 0.139\n",
      "[Iteration 3614/14070] TRAIN loss: 0.152\n",
      "[Iteration 3664/14070] TRAIN loss: 0.147\n",
      "[Iteration 3714/14070] TRAIN loss: 0.122\n",
      "[Iteration 3764/14070] TRAIN loss: 0.150\n",
      "[Iteration 3814/14070] TRAIN loss: 0.134\n",
      "[Iteration 3864/14070] TRAIN loss: 0.125\n",
      "[Iteration 3914/14070] TRAIN loss: 0.149\n",
      "[Iteration 3964/14070] TRAIN loss: 0.111\n",
      "[Iteration 4014/14070] TRAIN loss: 0.131\n",
      "[Iteration 4064/14070] TRAIN loss: 0.113\n",
      "[Iteration 4114/14070] TRAIN loss: 0.081\n",
      "[Iteration 4164/14070] TRAIN loss: 0.156\n",
      "[Iteration 4214/14070] TRAIN loss: 0.109\n",
      "[Epoch 3/10] TRAIN acc/loss: 1.000/0.109\n",
      "[Epoch 3/10] VAL   acc/loss: 0.969/0.118\n",
      "[Iteration 4271/14070] TRAIN loss: 0.142\n",
      "[Iteration 4321/14070] TRAIN loss: 0.097\n",
      "[Iteration 4371/14070] TRAIN loss: 0.074\n",
      "[Iteration 4421/14070] TRAIN loss: 0.127\n",
      "[Iteration 4471/14070] TRAIN loss: 0.095\n",
      "[Iteration 4521/14070] TRAIN loss: 0.163\n",
      "[Iteration 4571/14070] TRAIN loss: 0.100\n",
      "[Iteration 4621/14070] TRAIN loss: 0.128\n",
      "[Iteration 4671/14070] TRAIN loss: 0.101\n",
      "[Iteration 4721/14070] TRAIN loss: 0.100\n",
      "[Iteration 4771/14070] TRAIN loss: 0.127\n",
      "[Iteration 4821/14070] TRAIN loss: 0.094\n",
      "[Iteration 4871/14070] TRAIN loss: 0.095\n",
      "[Iteration 4921/14070] TRAIN loss: 0.080\n",
      "[Iteration 4971/14070] TRAIN loss: 0.088\n",
      "[Iteration 5021/14070] TRAIN loss: 0.106\n",
      "[Iteration 5071/14070] TRAIN loss: 0.137\n",
      "[Iteration 5121/14070] TRAIN loss: 0.087\n",
      "[Iteration 5171/14070] TRAIN loss: 0.142\n",
      "[Iteration 5221/14070] TRAIN loss: 0.111\n",
      "[Iteration 5271/14070] TRAIN loss: 0.097\n",
      "[Iteration 5321/14070] TRAIN loss: 0.119\n",
      "[Iteration 5371/14070] TRAIN loss: 0.124\n",
      "[Iteration 5421/14070] TRAIN loss: 0.104\n",
      "[Iteration 5471/14070] TRAIN loss: 0.119\n",
      "[Iteration 5521/14070] TRAIN loss: 0.064\n",
      "[Iteration 5571/14070] TRAIN loss: 0.084\n",
      "[Iteration 5621/14070] TRAIN loss: 0.101\n",
      "[Epoch 4/10] TRAIN acc/loss: 1.000/0.101\n",
      "[Epoch 4/10] VAL   acc/loss: 0.976/0.098\n",
      "[Iteration 5678/14070] TRAIN loss: 0.086\n",
      "[Iteration 5728/14070] TRAIN loss: 0.078\n",
      "[Iteration 5778/14070] TRAIN loss: 0.066\n",
      "[Iteration 5828/14070] TRAIN loss: 0.089\n",
      "[Iteration 5878/14070] TRAIN loss: 0.064\n",
      "[Iteration 5928/14070] TRAIN loss: 0.125\n",
      "[Iteration 5978/14070] TRAIN loss: 0.088\n",
      "[Iteration 6028/14070] TRAIN loss: 0.096\n",
      "[Iteration 6078/14070] TRAIN loss: 0.096\n",
      "[Iteration 6128/14070] TRAIN loss: 0.068\n",
      "[Iteration 6178/14070] TRAIN loss: 0.076\n",
      "[Iteration 6228/14070] TRAIN loss: 0.100\n",
      "[Iteration 6278/14070] TRAIN loss: 0.092\n",
      "[Iteration 6328/14070] TRAIN loss: 0.101\n",
      "[Iteration 6378/14070] TRAIN loss: 0.130\n",
      "[Iteration 6428/14070] TRAIN loss: 0.078\n",
      "[Iteration 6478/14070] TRAIN loss: 0.064\n",
      "[Iteration 6528/14070] TRAIN loss: 0.086\n",
      "[Iteration 6578/14070] TRAIN loss: 0.119\n",
      "[Iteration 6628/14070] TRAIN loss: 0.069\n",
      "[Iteration 6678/14070] TRAIN loss: 0.104\n",
      "[Iteration 6728/14070] TRAIN loss: 0.080\n",
      "[Iteration 6778/14070] TRAIN loss: 0.125\n",
      "[Iteration 6828/14070] TRAIN loss: 0.086\n",
      "[Iteration 6878/14070] TRAIN loss: 0.108\n",
      "[Iteration 6928/14070] TRAIN loss: 0.090\n",
      "[Iteration 6978/14070] TRAIN loss: 0.058\n",
      "[Iteration 7028/14070] TRAIN loss: 0.082\n",
      "[Epoch 5/10] TRAIN acc/loss: 1.000/0.082\n",
      "[Epoch 5/10] VAL   acc/loss: 0.977/0.091\n",
      "[Iteration 7085/14070] TRAIN loss: 0.070\n",
      "[Iteration 7135/14070] TRAIN loss: 0.075\n",
      "[Iteration 7185/14070] TRAIN loss: 0.089\n",
      "[Iteration 7235/14070] TRAIN loss: 0.081\n",
      "[Iteration 7285/14070] TRAIN loss: 0.070\n",
      "[Iteration 7335/14070] TRAIN loss: 0.095\n",
      "[Iteration 7385/14070] TRAIN loss: 0.064\n",
      "[Iteration 7435/14070] TRAIN loss: 0.070\n",
      "[Iteration 7485/14070] TRAIN loss: 0.060\n",
      "[Iteration 7535/14070] TRAIN loss: 0.084\n",
      "[Iteration 7585/14070] TRAIN loss: 0.058\n",
      "[Iteration 7635/14070] TRAIN loss: 0.072\n",
      "[Iteration 7685/14070] TRAIN loss: 0.101\n",
      "[Iteration 7735/14070] TRAIN loss: 0.070\n",
      "[Iteration 7785/14070] TRAIN loss: 0.067\n",
      "[Iteration 7835/14070] TRAIN loss: 0.060\n",
      "[Iteration 7885/14070] TRAIN loss: 0.101\n",
      "[Iteration 7935/14070] TRAIN loss: 0.069\n",
      "[Iteration 7985/14070] TRAIN loss: 0.066\n",
      "[Iteration 8035/14070] TRAIN loss: 0.074\n",
      "[Iteration 8085/14070] TRAIN loss: 0.076\n",
      "[Iteration 8135/14070] TRAIN loss: 0.083\n",
      "[Iteration 8185/14070] TRAIN loss: 0.106\n",
      "[Iteration 8235/14070] TRAIN loss: 0.084\n",
      "[Iteration 8285/14070] TRAIN loss: 0.075\n",
      "[Iteration 8335/14070] TRAIN loss: 0.094\n",
      "[Iteration 8385/14070] TRAIN loss: 0.091\n",
      "[Iteration 8435/14070] TRAIN loss: 0.115\n",
      "[Epoch 6/10] TRAIN acc/loss: 1.000/0.115\n",
      "[Epoch 6/10] VAL   acc/loss: 0.975/0.096\n",
      "[Iteration 8492/14070] TRAIN loss: 0.073\n",
      "[Iteration 8542/14070] TRAIN loss: 0.074\n",
      "[Iteration 8592/14070] TRAIN loss: 0.083\n",
      "[Iteration 8642/14070] TRAIN loss: 0.045\n",
      "[Iteration 8692/14070] TRAIN loss: 0.099\n",
      "[Iteration 8742/14070] TRAIN loss: 0.059\n",
      "[Iteration 8792/14070] TRAIN loss: 0.071\n",
      "[Iteration 8842/14070] TRAIN loss: 0.056\n",
      "[Iteration 8892/14070] TRAIN loss: 0.067\n",
      "[Iteration 8942/14070] TRAIN loss: 0.055\n",
      "[Iteration 8992/14070] TRAIN loss: 0.084\n",
      "[Iteration 9042/14070] TRAIN loss: 0.056\n",
      "[Iteration 9092/14070] TRAIN loss: 0.056\n",
      "[Iteration 9142/14070] TRAIN loss: 0.070\n",
      "[Iteration 9192/14070] TRAIN loss: 0.093\n",
      "[Iteration 9242/14070] TRAIN loss: 0.064\n",
      "[Iteration 9292/14070] TRAIN loss: 0.102\n",
      "[Iteration 9342/14070] TRAIN loss: 0.070\n",
      "[Iteration 9392/14070] TRAIN loss: 0.060\n",
      "[Iteration 9442/14070] TRAIN loss: 0.064\n",
      "[Iteration 9492/14070] TRAIN loss: 0.069\n"
     ]
    },
    {
     "name": "stdout",
     "output_type": "stream",
     "text": [
      "[Iteration 9542/14070] TRAIN loss: 0.060\n",
      "[Iteration 9592/14070] TRAIN loss: 0.072\n",
      "[Iteration 9642/14070] TRAIN loss: 0.071\n",
      "[Iteration 9692/14070] TRAIN loss: 0.090\n",
      "[Iteration 9742/14070] TRAIN loss: 0.066\n",
      "[Iteration 9792/14070] TRAIN loss: 0.047\n",
      "[Iteration 9842/14070] TRAIN loss: 0.052\n",
      "[Epoch 7/10] TRAIN acc/loss: 0.875/0.052\n",
      "[Epoch 7/10] VAL   acc/loss: 0.978/0.091\n",
      "[Iteration 9899/14070] TRAIN loss: 0.060\n",
      "[Iteration 9949/14070] TRAIN loss: 0.042\n",
      "[Iteration 9999/14070] TRAIN loss: 0.063\n",
      "[Iteration 10049/14070] TRAIN loss: 0.073\n",
      "[Iteration 10099/14070] TRAIN loss: 0.047\n",
      "[Iteration 10149/14070] TRAIN loss: 0.066\n",
      "[Iteration 10199/14070] TRAIN loss: 0.063\n",
      "[Iteration 10249/14070] TRAIN loss: 0.082\n",
      "[Iteration 10299/14070] TRAIN loss: 0.033\n",
      "[Iteration 10349/14070] TRAIN loss: 0.052\n",
      "[Iteration 10399/14070] TRAIN loss: 0.069\n",
      "[Iteration 10449/14070] TRAIN loss: 0.050\n",
      "[Iteration 10499/14070] TRAIN loss: 0.072\n",
      "[Iteration 10549/14070] TRAIN loss: 0.070\n",
      "[Iteration 10599/14070] TRAIN loss: 0.064\n",
      "[Iteration 10649/14070] TRAIN loss: 0.066\n",
      "[Iteration 10699/14070] TRAIN loss: 0.066\n",
      "[Iteration 10749/14070] TRAIN loss: 0.047\n",
      "[Iteration 10799/14070] TRAIN loss: 0.045\n",
      "[Iteration 10849/14070] TRAIN loss: 0.068\n",
      "[Iteration 10899/14070] TRAIN loss: 0.077\n",
      "[Iteration 10949/14070] TRAIN loss: 0.052\n",
      "[Iteration 10999/14070] TRAIN loss: 0.062\n",
      "[Iteration 11049/14070] TRAIN loss: 0.061\n",
      "[Iteration 11099/14070] TRAIN loss: 0.101\n",
      "[Iteration 11149/14070] TRAIN loss: 0.061\n",
      "[Iteration 11199/14070] TRAIN loss: 0.070\n",
      "[Iteration 11249/14070] TRAIN loss: 0.061\n",
      "[Epoch 8/10] TRAIN acc/loss: 1.000/0.061\n",
      "[Epoch 8/10] VAL   acc/loss: 0.982/0.078\n",
      "[Iteration 11306/14070] TRAIN loss: 0.048\n",
      "[Iteration 11356/14070] TRAIN loss: 0.034\n",
      "[Iteration 11406/14070] TRAIN loss: 0.042\n",
      "[Iteration 11456/14070] TRAIN loss: 0.030\n",
      "[Iteration 11506/14070] TRAIN loss: 0.058\n",
      "[Iteration 11556/14070] TRAIN loss: 0.044\n",
      "[Iteration 11606/14070] TRAIN loss: 0.027\n",
      "[Iteration 11656/14070] TRAIN loss: 0.033\n",
      "[Iteration 11706/14070] TRAIN loss: 0.069\n",
      "[Iteration 11756/14070] TRAIN loss: 0.051\n",
      "[Iteration 11806/14070] TRAIN loss: 0.077\n",
      "[Iteration 11856/14070] TRAIN loss: 0.045\n",
      "[Iteration 11906/14070] TRAIN loss: 0.049\n",
      "[Iteration 11956/14070] TRAIN loss: 0.048\n",
      "[Iteration 12006/14070] TRAIN loss: 0.075\n",
      "[Iteration 12056/14070] TRAIN loss: 0.063\n",
      "[Iteration 12106/14070] TRAIN loss: 0.050\n",
      "[Iteration 12156/14070] TRAIN loss: 0.067\n",
      "[Iteration 12206/14070] TRAIN loss: 0.056\n",
      "[Iteration 12256/14070] TRAIN loss: 0.089\n",
      "[Iteration 12306/14070] TRAIN loss: 0.081\n",
      "[Iteration 12356/14070] TRAIN loss: 0.069\n",
      "[Iteration 12406/14070] TRAIN loss: 0.040\n",
      "[Iteration 12456/14070] TRAIN loss: 0.053\n",
      "[Iteration 12506/14070] TRAIN loss: 0.078\n",
      "[Iteration 12556/14070] TRAIN loss: 0.068\n",
      "[Iteration 12606/14070] TRAIN loss: 0.066\n",
      "[Iteration 12656/14070] TRAIN loss: 0.087\n",
      "[Epoch 9/10] TRAIN acc/loss: 0.875/0.087\n",
      "[Epoch 9/10] VAL   acc/loss: 0.977/0.094\n",
      "[Iteration 12713/14070] TRAIN loss: 0.052\n",
      "[Iteration 12763/14070] TRAIN loss: 0.047\n",
      "[Iteration 12813/14070] TRAIN loss: 0.034\n",
      "[Iteration 12863/14070] TRAIN loss: 0.069\n",
      "[Iteration 12913/14070] TRAIN loss: 0.038\n",
      "[Iteration 12963/14070] TRAIN loss: 0.035\n",
      "[Iteration 13013/14070] TRAIN loss: 0.056\n",
      "[Iteration 13063/14070] TRAIN loss: 0.034\n",
      "[Iteration 13113/14070] TRAIN loss: 0.037\n",
      "[Iteration 13163/14070] TRAIN loss: 0.048\n",
      "[Iteration 13213/14070] TRAIN loss: 0.038\n",
      "[Iteration 13263/14070] TRAIN loss: 0.043\n",
      "[Iteration 13313/14070] TRAIN loss: 0.087\n",
      "[Iteration 13363/14070] TRAIN loss: 0.056\n",
      "[Iteration 13413/14070] TRAIN loss: 0.044\n",
      "[Iteration 13463/14070] TRAIN loss: 0.046\n",
      "[Iteration 13513/14070] TRAIN loss: 0.048\n",
      "[Iteration 13563/14070] TRAIN loss: 0.034\n",
      "[Iteration 13613/14070] TRAIN loss: 0.038\n",
      "[Iteration 13663/14070] TRAIN loss: 0.046\n",
      "[Iteration 13713/14070] TRAIN loss: 0.065\n",
      "[Iteration 13763/14070] TRAIN loss: 0.051\n",
      "[Iteration 13813/14070] TRAIN loss: 0.061\n",
      "[Iteration 13863/14070] TRAIN loss: 0.078\n",
      "[Iteration 13913/14070] TRAIN loss: 0.070\n",
      "[Iteration 13963/14070] TRAIN loss: 0.045\n",
      "[Iteration 14013/14070] TRAIN loss: 0.074\n",
      "[Iteration 14063/14070] TRAIN loss: 0.067\n",
      "[Epoch 10/10] TRAIN acc/loss: 1.000/0.067\n",
      "[Epoch 10/10] VAL   acc/loss: 0.983/0.068\n",
      "FINISH.\n"
     ]
    }
   ],
   "source": [
    "batch_size = 32\n",
    "train_loader = torch.utils.data.DataLoader(\n",
    "                 dataset=train_dset,\n",
    "                 batch_size=batch_size,\n",
    "                 shuffle=True)\n",
    "val_loader = torch.utils.data.DataLoader(\n",
    "                dataset=val_dset,\n",
    "                batch_size=batch_size,\n",
    "                shuffle=False)\n",
    "\n",
    "solver = Solver(optim_args={\"lr\": 1e-3})\n",
    "\n",
    "# train rnn model\n",
    "solver.train(model_rnn, train_loader, val_loader, log_nth=50, num_epochs=10)"
   ]
  },
  {
   "cell_type": "markdown",
   "metadata": {},
   "source": [
    "Train your RNN classifier and try to tune the hyperparameters. With your simple RNN classifier you should exceed an accuracy higher than __90%__."
   ]
  },
  {
   "cell_type": "markdown",
   "metadata": {},
   "source": [
    "Try to improve your model by using a LSTM."
   ]
  },
  {
   "cell_type": "code",
   "execution_count": 16,
   "metadata": {},
   "outputs": [],
   "source": [
    "from exercise_code.rnn.rnn_nn import LSTM_Classifier\n",
    "model= LSTM_Classifier()\n"
   ]
  },
  {
   "cell_type": "markdown",
   "metadata": {},
   "source": [
    "Train your LSTM model again and see wether it improves performance on the validation set"
   ]
  },
  {
   "cell_type": "markdown",
   "metadata": {},
   "source": [
    "# Test your Model\n",
    "When you are satisfied with your training, you can save the model. In order to be eligible for the bonus points you have to achieve a score higher than __97__."
   ]
  },
  {
   "cell_type": "markdown",
   "metadata": {},
   "source": [
    "## Save the Model\n",
    "\n",
    "When you are satisfied with your training, you can save the model."
   ]
  },
  {
   "cell_type": "code",
   "execution_count": 17,
   "metadata": {},
   "outputs": [
    {
     "name": "stdout",
     "output_type": "stream",
     "text": [
      "Saving model... models/rnn_mnist_nn.model\n"
     ]
    },
    {
     "name": "stderr",
     "output_type": "stream",
     "text": [
      "E:\\Anaconda3\\envs\\i2dl\\lib\\site-packages\\torch\\serialization.py:292: UserWarning: Couldn't retrieve source code for container of type LSTM_Classifier. It won't be checked for correctness upon loading.\n",
      "  \"type \" + obj.__name__ + \". It won't be checked \"\n",
      "E:\\Anaconda3\\envs\\i2dl\\lib\\site-packages\\torch\\serialization.py:292: UserWarning: Couldn't retrieve source code for container of type LSTM. It won't be checked for correctness upon loading.\n",
      "  \"type \" + obj.__name__ + \". It won't be checked \"\n",
      "E:\\Anaconda3\\envs\\i2dl\\lib\\site-packages\\torch\\serialization.py:292: UserWarning: Couldn't retrieve source code for container of type Linear. It won't be checked for correctness upon loading.\n",
      "  \"type \" + obj.__name__ + \". It won't be checked \"\n"
     ]
    }
   ],
   "source": [
    "os.makedirs('models', exist_ok=True)\n",
    "model_rnn.save(\"models/rnn_mnist_nn.model\")"
   ]
  },
  {
   "cell_type": "code",
   "execution_count": null,
   "metadata": {},
   "outputs": [],
   "source": []
  }
 ],
 "metadata": {
  "kernelspec": {
   "display_name": "Python 3",
   "language": "python",
   "name": "python3"
  },
  "language_info": {
   "codemirror_mode": {
    "name": "ipython",
    "version": 3
   },
   "file_extension": ".py",
   "mimetype": "text/x-python",
   "name": "python",
   "nbconvert_exporter": "python",
   "pygments_lexer": "ipython3",
   "version": "3.7.5"
  }
 },
 "nbformat": 4,
 "nbformat_minor": 2
}
